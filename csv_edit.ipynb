{
 "cells": [
  {
   "cell_type": "code",
   "execution_count": 2,
   "metadata": {},
   "outputs": [],
   "source": [
    "import pandas as pd"
   ]
  },
  {
   "cell_type": "code",
   "execution_count": 7,
   "metadata": {},
   "outputs": [],
   "source": [
    "df = pd.read_csv(\"data/homicide_web.csv\")\n",
    "df1 = pd.read_csv(\"data/processed_web.csv\")"
   ]
  },
  {
   "cell_type": "code",
   "execution_count": 14,
   "metadata": {},
   "outputs": [
    {
     "name": "stdout",
     "output_type": "stream",
     "text": [
      "<class 'pandas.core.frame.DataFrame'>\n",
      "RangeIndex: 6817 entries, 0 to 6816\n",
      "Data columns (total 8 columns):\n",
      " #   Column                       Non-Null Count  Dtype  \n",
      "---  ------                       --------------  -----  \n",
      " 0   Iso3_code                    6817 non-null   object \n",
      " 1   Country                      6817 non-null   object \n",
      " 2   Region                       6817 non-null   object \n",
      " 3   Indicator                    6817 non-null   object \n",
      " 4   Sex                          6817 non-null   object \n",
      " 5   Year                         6817 non-null   int64  \n",
      " 6   Counts                       6817 non-null   int64  \n",
      " 7   Rate per 100 000 population  6803 non-null   float64\n",
      "dtypes: float64(1), int64(2), object(5)\n",
      "memory usage: 426.2+ KB\n"
     ]
    }
   ],
   "source": [
    "df.info()"
   ]
  },
  {
   "cell_type": "code",
   "execution_count": 15,
   "metadata": {},
   "outputs": [
    {
     "name": "stdout",
     "output_type": "stream",
     "text": [
      "<class 'pandas.core.frame.DataFrame'>\n",
      "RangeIndex: 130431 entries, 0 to 130430\n",
      "Data columns (total 12 columns):\n",
      " #   Column                                                       Non-Null Count   Dtype  \n",
      "---  ------                                                       --------------   -----  \n",
      " 0   Region Code                                                  130431 non-null  object \n",
      " 1   Region Name                                                  130431 non-null  object \n",
      " 2   Country Code                                                 130431 non-null  object \n",
      " 3   Country Name                                                 130431 non-null  object \n",
      " 4   Year                                                         130431 non-null  int64  \n",
      " 5   Sex                                                          130431 non-null  object \n",
      " 6   Age group code                                               130431 non-null  object \n",
      " 7   Age Group                                                    130431 non-null  object \n",
      " 8   Number                                                       129849 non-null  float64\n",
      " 9   Percentage of self-harm deaths out of total deaths           125935 non-null  float64\n",
      " 10  Age-standardized death rate per 100 000 standard population  6012 non-null    float64\n",
      " 11  Death rate per 100 000 population                            119226 non-null  float64\n",
      "dtypes: float64(4), int64(1), object(7)\n",
      "memory usage: 11.9+ MB\n"
     ]
    }
   ],
   "source": [
    "df1.info()"
   ]
  },
  {
   "cell_type": "code",
   "execution_count": 16,
   "metadata": {},
   "outputs": [
    {
     "name": "stdout",
     "output_type": "stream",
     "text": [
      "<class 'pandas.core.frame.DataFrame'>\n",
      "RangeIndex: 6817 entries, 0 to 6816\n",
      "Data columns (total 8 columns):\n",
      " #   Column                       Non-Null Count  Dtype  \n",
      "---  ------                       --------------  -----  \n",
      " 0   Iso3_code                    6817 non-null   object \n",
      " 1   Country                      6817 non-null   object \n",
      " 2   Region                       6817 non-null   object \n",
      " 3   Indicator                    6817 non-null   object \n",
      " 4   Sex                          6817 non-null   object \n",
      " 5   Year                         6817 non-null   int64  \n",
      " 6   Counts                       6817 non-null   int64  \n",
      " 7   Rate per 100 000 population  6803 non-null   float64\n",
      "dtypes: float64(1), int64(2), object(5)\n",
      "memory usage: 426.2+ KB\n"
     ]
    }
   ],
   "source": [
    "# Create a dictionary to map Iso3_code to Country Name\n",
    "country_mapping = dict(zip(df1['Country Code'], df1['Country Name']))\n",
    "\n",
    "# Update 'Country' column using the map function\n",
    "df['Country'] = df['Iso3_code'].map(country_mapping).fillna(df['Country'])\n",
    "df.info()"
   ]
  },
  {
   "cell_type": "code",
   "execution_count": 18,
   "metadata": {},
   "outputs": [],
   "source": [
    "df.to_csv('data/homicide_web.csv', index=False)"
   ]
  }
 ],
 "metadata": {
  "kernelspec": {
   "display_name": "Python 3",
   "language": "python",
   "name": "python3"
  },
  "language_info": {
   "codemirror_mode": {
    "name": "ipython",
    "version": 3
   },
   "file_extension": ".py",
   "mimetype": "text/x-python",
   "name": "python",
   "nbconvert_exporter": "python",
   "pygments_lexer": "ipython3",
   "version": "3.8.6"
  },
  "orig_nbformat": 4
 },
 "nbformat": 4,
 "nbformat_minor": 2
}
